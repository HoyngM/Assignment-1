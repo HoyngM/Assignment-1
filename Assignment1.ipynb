{
 "cells": [
  {
   "cell_type": "markdown",
   "id": "711f1fe2",
   "metadata": {},
   "source": [
    "## 1. Dataset creation"
   ]
  },
  {
   "cell_type": "code",
   "execution_count": 3,
   "id": "ebb3a3be",
   "metadata": {},
   "outputs": [
    {
     "name": "stdout",
     "output_type": "stream",
     "text": [
      "label\n",
      "1    0.807584\n",
      "0    0.192416\n",
      "Name: proportion, dtype: float64\n"
     ]
    }
   ],
   "source": [
    "import pandas as pd\n",
    "\n",
    "reviews = pd.read_csv(\"Movies_and_TV.csv\")\n",
    "reviews[\"label\"] = reviews[\"rating\"].apply(lambda x: 1 if x >= 4 else 0)\n",
    "\n",
    "print(reviews[\"label\"].value_counts(normalize=True))"
   ]
  },
  {
   "cell_type": "markdown",
   "id": "e2b11d5b",
   "metadata": {},
   "source": [
    "Results\n",
    "\n",
    "Percentage 1 = 0.807584\n",
    "Percentage 0 = 0.192416\n",
    "\n",
    "This means that there are way more positive reviews than negative ones"
   ]
  },
  {
   "cell_type": "markdown",
   "id": "fac04549",
   "metadata": {},
   "source": [
    "## 2. Preprocessing & Analysis\n",
    "\n",
    "Tokenize and preprocess data"
   ]
  },
  {
   "cell_type": "code",
   "execution_count": null,
   "id": "623edb1c",
   "metadata": {},
   "outputs": [],
   "source": [
    "import re\n",
    "import string\n",
    "\n",
    "def clean_data(inhoud):\n",
    "    \n",
    "    #Check for any non-text input\n",
    "    if not isinstance(inhoud, str):\n",
    "        return \"\"   \n",
    "\n",
    "    #Turn all text into lowercase text\n",
    "    inhoud = inhoud.lower()\n",
    "\n",
    "    #Remove numbers and any punctuation\n",
    "    inhoud = re.sub(r\"\\d+\", \"\", inhoud)\n",
    "    inhoud = inhoud.translate(str.maketrans(\"\", \"\", string.punctuation))\n",
    "\n",
    "    #Split the text into singular words\n",
    "    words = inhoud.split()\n",
    "\n",
    "    #Put a space between the words when they get returned in the cleaned_text\n",
    "    return \" \".join(words)\n",
    "\n",
    "reviews['cleaned_text'] = reviews['text'].apply(clean_data)"
   ]
  },
  {
   "cell_type": "markdown",
   "id": "b8184a27",
   "metadata": {},
   "source": [
    "Descriptive statistics\n",
    "\n",
    "Number of reviews"
   ]
  },
  {
   "cell_type": "code",
   "execution_count": 5,
   "id": "72ddc482",
   "metadata": {},
   "outputs": [
    {
     "name": "stdout",
     "output_type": "stream",
     "text": [
      "Number of reviews:  102024\n"
     ]
    }
   ],
   "source": [
    "print(\"Number of reviews: \", len(reviews))"
   ]
  },
  {
   "cell_type": "markdown",
   "id": "bf73d71a",
   "metadata": {},
   "source": [
    "Average words per review"
   ]
  },
  {
   "cell_type": "code",
   "execution_count": 6,
   "id": "d53fd979",
   "metadata": {},
   "outputs": [
    {
     "name": "stdout",
     "output_type": "stream",
     "text": [
      "Average words per review:  52.6\n"
     ]
    }
   ],
   "source": [
    "reviews[\"total_words\"] = reviews[\"cleaned_text\"].apply(lambda x: len(x.split()))\n",
    "print(\"Average words per review: \", round(reviews[\"total_words\"].mean(), 2))"
   ]
  },
  {
   "cell_type": "markdown",
   "id": "5eab82b0",
   "metadata": {},
   "source": [
    "Number of unique words"
   ]
  },
  {
   "cell_type": "code",
   "execution_count": 7,
   "id": "7aa1b5d6",
   "metadata": {},
   "outputs": [
    {
     "name": "stdout",
     "output_type": "stream",
     "text": [
      "Number of unique words: 103056\n"
     ]
    }
   ],
   "source": [
    "alle_woorden = \" \".join(reviews[\"cleaned_text\"]).split()\n",
    "print(\"Number of unique words:\", len(set(alle_woorden)))"
   ]
  },
  {
   "cell_type": "markdown",
   "id": "8c96c53d",
   "metadata": {},
   "source": [
    "Show the 50 most common words in the corpus after preprocessing"
   ]
  },
  {
   "cell_type": "code",
   "execution_count": null,
   "id": "49a99d95",
   "metadata": {},
   "outputs": [
    {
     "name": "stdout",
     "output_type": "stream",
     "text": [
      "the: 280562\n",
      "and: 162310\n",
      "a: 144252\n",
      "to: 124728\n",
      "of: 115297\n",
      "i: 105824\n",
      "is: 92520\n",
      "this: 89461\n",
      "it: 86838\n",
      "in: 71284\n",
      "for: 49989\n",
      "that: 49909\n",
      "was: 48605\n",
      "movie: 47882\n",
      "with: 43430\n",
      "but: 38735\n",
      "you: 38625\n",
      "as: 37591\n",
      "br: 36336\n",
      "on: 34823\n",
      "not: 31065\n",
      "are: 30600\n",
      "have: 27259\n",
      "great: 24773\n",
      "my: 24209\n",
      "one: 23184\n",
      "good: 23033\n",
      "so: 22501\n",
      "be: 22148\n",
      "all: 21640\n",
      "like: 19516\n",
      "they: 19356\n",
      "love: 18767\n",
      "its: 17824\n",
      "at: 17759\n",
      "very: 17142\n",
      "an: 16819\n",
      "he: 16664\n",
      "his: 16658\n",
      "from: 16544\n",
      "if: 16542\n",
      "just: 16514\n",
      "more: 16016\n",
      "her: 14859\n",
      "who: 14661\n",
      "about: 14560\n",
      "story: 14303\n",
      "there: 14245\n",
      "show: 14153\n",
      "or: 14136\n"
     ]
    }
   ],
   "source": [
    "from collections import Counter\n",
    "\n",
    "alle_woorden = \" \".join(reviews[\"cleaned_text\"]).split()\n",
    "woord_frequentie = Counter(alle_woorden)\n",
    "top50 = woord_frequentie.most_common(50)\n",
    "\n",
    "for word, freq in top50:\n",
    "    print(f\"{word}: {freq}\")"
   ]
  },
  {
   "cell_type": "markdown",
   "id": "f36c71cb",
   "metadata": {},
   "source": [
    "## 3. Bag-Of-Word Model\n",
    "\n",
    "Remove stopwords"
   ]
  },
  {
   "cell_type": "code",
   "execution_count": 10,
   "id": "4ab6640f",
   "metadata": {},
   "outputs": [],
   "source": [
    "from nltk.corpus import stopwords\n",
    "\n",
    "alle_woorden = \" \".join(reviews[\"cleaned_text\"]).split()\n",
    "stop_words = set(stopwords.words(\"english\"))\n",
    "\n",
    "words = [w for w in alle_woorden if w not in stop_words]\n",
    "\n"
   ]
  },
  {
   "cell_type": "markdown",
   "id": "d47a6fc9",
   "metadata": {},
   "source": [
    "Show the 100 most common words after stopword removal"
   ]
  },
  {
   "cell_type": "code",
   "execution_count": 11,
   "id": "3cdb98f4",
   "metadata": {},
   "outputs": [
    {
     "name": "stdout",
     "output_type": "stream",
     "text": [
      "movie: 47882\n",
      "br: 36336\n",
      "great: 24773\n",
      "one: 23184\n",
      "good: 23033\n",
      "like: 19516\n",
      "love: 18767\n",
      "story: 14303\n",
      "show: 14153\n",
      "watch: 14092\n",
      "series: 13533\n",
      "film: 13522\n",
      "time: 12676\n",
      "really: 12502\n",
      "would: 11952\n",
      "well: 11246\n",
      "see: 9960\n",
      "first: 9646\n",
      "much: 9568\n",
      "get: 9454\n",
      "movies: 9169\n",
      "dvd: 9067\n",
      "season: 9019\n",
      "even: 8199\n",
      "watching: 7932\n",
      "also: 7702\n",
      "dont: 7384\n",
      "many: 6642\n",
      "characters: 6591\n",
      "people: 6559\n",
      "way: 6555\n",
      "best: 6552\n",
      "loved: 6478\n",
      "could: 6431\n",
      "little: 6395\n",
      "two: 6365\n",
      "back: 6248\n",
      "think: 6246\n",
      "better: 6044\n",
      "acting: 6020\n",
      "fun: 5996\n",
      "life: 5982\n",
      "still: 5897\n",
      "make: 5790\n",
      "im: 5654\n",
      "enjoyed: 5565\n",
      "watched: 5511\n",
      "know: 5446\n",
      "never: 5435\n",
      "funny: 5397\n",
      "family: 5346\n",
      "made: 5319\n",
      "workout: 5309\n",
      "work: 5289\n",
      "new: 5211\n",
      "old: 5078\n",
      "want: 4832\n",
      "bad: 4776\n",
      "enjoy: 4762\n",
      "didnt: 4736\n",
      "seen: 4686\n",
      "end: 4638\n",
      "interesting: 4628\n",
      "lot: 4546\n",
      "character: 4498\n",
      "excellent: 4420\n",
      "years: 4374\n",
      "find: 4278\n",
      "times: 4260\n",
      "every: 4184\n",
      "minutes: 4119\n",
      "recommend: 4097\n",
      "go: 4086\n",
      "worth: 4084\n",
      "shows: 4080\n",
      "always: 4073\n",
      "set: 3971\n",
      "going: 3965\n",
      "cant: 3962\n",
      "bit: 3946\n",
      "actors: 3946\n",
      "video: 3930\n",
      "done: 3829\n",
      "say: 3788\n",
      "thought: 3756\n",
      "favorite: 3718\n",
      "plot: 3706\n",
      "kids: 3702\n",
      "another: 3693\n",
      "real: 3692\n",
      "ever: 3648\n",
      "music: 3607\n",
      "something: 3601\n",
      "feel: 3585\n",
      "episode: 3578\n",
      "long: 3567\n",
      "ive: 3564\n",
      "found: 3543\n",
      "got: 3540\n",
      "us: 3475\n"
     ]
    }
   ],
   "source": [
    "woord_frequentie_100 = Counter(words)\n",
    "top100 = woord_frequentie_100.most_common(100)\n",
    "\n",
    "for word, freq in top100:\n",
    "    print(f\"{word}: {freq}\")"
   ]
  },
  {
   "cell_type": "markdown",
   "id": "99f86fc0",
   "metadata": {},
   "source": [
    "Calculate mutual information for these 100 words with the target label and report the most informative ones"
   ]
  },
  {
   "cell_type": "code",
   "execution_count": 22,
   "id": "ab56003c",
   "metadata": {},
   "outputs": [
    {
     "name": "stdout",
     "output_type": "stream",
     "text": [
      "     Word  Mutual Information\n",
      "    great            0.011072\n",
      "      bad            0.008628\n",
      "     love            0.007399\n",
      "    didnt            0.005409\n",
      "  minutes            0.004700\n",
      "    loved            0.004484\n",
      "    would            0.003707\n",
      "    could            0.003451\n",
      "   better            0.003246\n",
      "excellent            0.003056\n",
      "     like            0.002974\n",
      "     dont            0.002915\n",
      "     plot            0.002769\n",
      "     even            0.002525\n",
      "  enjoyed            0.002509\n",
      "   series            0.002063\n",
      "     much            0.001883\n",
      "   acting            0.001773\n",
      "      get            0.001672\n",
      "    movie            0.001576\n"
     ]
    }
   ],
   "source": [
    "from sklearn.feature_selection import mutual_info_classif\n",
    "from sklearn.feature_extraction.text import CountVectorizer\n",
    "\n",
    "top100_justwords = [w for w, _ in top100]\n",
    "\n",
    "vector = CountVectorizer(vocabulary=top100_justwords)\n",
    "X = vector.fit_transform(reviews['cleaned_text'])\n",
    "Y = reviews['label']\n",
    "\n",
    "mutual_info_score = mutual_info_classif(X, Y, discrete_features=True)\n",
    "\n",
    "mutual_info_score_dataframe = pd.DataFrame({'Word': top100_justwords, 'Mutual Information': mutual_info_score})\n",
    "mutual_info_score_dataframe = mutual_info_score_dataframe.sort_values(by=\"Mutual Information\", ascending=False)\n",
    "mutual_info_score_dataframe_clean = mutual_info_score_dataframe.reset_index(drop=True)\n",
    "\n",
    "print(mutual_info_score_dataframe_clean.head(20).to_string(index=False))"
   ]
  },
  {
   "cell_type": "code",
   "execution_count": null,
   "id": "e4775407",
   "metadata": {},
   "outputs": [],
   "source": []
  }
 ],
 "metadata": {
  "kernelspec": {
   "display_name": "AML_env",
   "language": "python",
   "name": "python3"
  },
  "language_info": {
   "codemirror_mode": {
    "name": "ipython",
    "version": 3
   },
   "file_extension": ".py",
   "mimetype": "text/x-python",
   "name": "python",
   "nbconvert_exporter": "python",
   "pygments_lexer": "ipython3",
   "version": "3.11.13"
  }
 },
 "nbformat": 4,
 "nbformat_minor": 5
}
